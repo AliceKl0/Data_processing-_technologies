{
 "cells": [
  {
   "cell_type": "markdown",
   "id": "3d6b622b-bd8a-4f8d-9d1f-8961a0100939",
   "metadata": {},
   "source": [
    "1. Файл minutes_n_ingredients.csv содержит информацию об идентификаторе рецепта, времени его выполнения в минутах и количестве необходимых ингредиентов. Считайте данные из этого файла в виде массива numpy типа int32, используя np.loadtxt. Выведите на экран первые 5 строк массива."
   ]
  },
  {
   "cell_type": "code",
   "execution_count": 1,
   "id": "7458b3f7-562f-4031-b3d1-f7b68fb448a2",
   "metadata": {},
   "outputs": [
    {
     "name": "stdout",
     "output_type": "stream",
     "text": [
      "Первые 5-ть строк: \n",
      "[[ 1 34  3]\n",
      " [ 2 45  5]\n",
      " [ 3 12  6]\n",
      " [ 4 56 10]\n",
      " [ 5 78  3]]\n"
     ]
    }
   ],
   "source": [
    "from numpy import *\n",
    "\n",
    "data = loadtxt('minutes_n_ingredients.csv', delimiter=';', skiprows=1, dtype=int32) # skiprows с учётом того, что первая строка файла - заголовки\n",
    "\n",
    "print(f\"Первые 5-ть строк: \\n{data[:5]}\")"
   ]
  },
  {
   "cell_type": "markdown",
   "id": "9d1f0fea-63b5-4e62-8cdb-06acdac6850a",
   "metadata": {},
   "source": [
    "2. Вычислите среднее значение, минимум, максимум и медиану по каждому из столбцов, кроме первого."
   ]
  },
  {
   "cell_type": "code",
   "execution_count": 2,
   "id": "89775a97-39ad-44eb-b528-6c08b19a2f2e",
   "metadata": {},
   "outputs": [
    {
     "name": "stdout",
     "output_type": "stream",
     "text": [
      "Среднее значение: [34.8125  5.375 ]\n",
      "\n",
      "Минимальное значение: [0 2]\n",
      "\n",
      "Максимальное значение: [90 10]\n",
      "\n",
      "Медиана: [33.  5.]\n"
     ]
    }
   ],
   "source": [
    "import numpy as np\n",
    "\n",
    "mean_ = mean(data[:, 1:], axis=0)\n",
    "min_ = np.min(data[:, 1:], axis=0)\n",
    "max_ = np.max(data[:, 1:], axis=0)\n",
    "median_ = median(data[:, 1:], axis=0)\n",
    "\n",
    "print(f\"Среднее значение: {mean_}\")\n",
    "print(f\"\\nМинимальное значение: {min_}\")\n",
    "print(f\"\\nМаксимальное значение: {max_}\")\n",
    "print(f\"\\nМедиана: {median_}\")"
   ]
  },
  {
   "cell_type": "markdown",
   "id": "ac0b3f13-c9c8-4d54-8238-c3d885a851df",
   "metadata": {},
   "source": [
    "3. Ограничьте сверху значения продолжительности выполнения рецепта значением квантиля q0.75."
   ]
  },
  {
   "cell_type": "code",
   "execution_count": 3,
   "id": "ccc64ee5-e9bc-40b7-b650-5181be8b15e9",
   "metadata": {},
   "outputs": [
    {
     "name": "stdout",
     "output_type": "stream",
     "text": [
      "Значение квантиля: 32.5\n",
      "\n",
      "Изменённая база данных: \n",
      "[[ 1 32  3]\n",
      " [ 2 32  5]\n",
      " [ 3 12  6]\n",
      " [ 4 32 10]\n",
      " [ 5 32  3]\n",
      " [ 6 32  2]\n",
      " [ 7 11  6]\n",
      " [ 8 23  7]\n",
      " [ 9 32  8]\n",
      " [10 32  4]\n",
      " [11  0  5]\n",
      " [12 19  3]\n",
      " [13  0  5]\n",
      " [ 2 32  5]\n",
      " [14 32  8]\n",
      " [ 7 11  6]]\n"
     ]
    }
   ],
   "source": [
    "q_75 = quantile(data[:, 1:], 0.75)\n",
    "data[:, 1:] = minimum(data[:, 1:], q_75)\n",
    "\n",
    "print(f\"Значение квантиля: {q_75}\")\n",
    "# print(f\"\\nИзменённая база данных: \\n{data}\")"
   ]
  },
  {
   "cell_type": "markdown",
   "id": "467bc78c-bf7d-4ff8-8be8-ebf6eab74173",
   "metadata": {},
   "source": [
    "4. Посчитайте, для скольких рецептов указана продолжительность, равная нулю. Замените для таких строк значение в данном столбце на 1."
   ]
  },
  {
   "cell_type": "code",
   "execution_count": 4,
   "id": "460be356-afc2-43fb-bedf-e2b731dd3566",
   "metadata": {},
   "outputs": [
    {
     "name": "stdout",
     "output_type": "stream",
     "text": [
      "Кол-во времени выполнений == 0: 2\n",
      "\n",
      "Изменённая база данных: \n",
      "[[ 1 32  3]\n",
      " [ 2 32  5]\n",
      " [ 3 12  6]\n",
      " [ 4 32 10]\n",
      " [ 5 32  3]\n",
      " [ 6 32  2]\n",
      " [ 7 11  6]\n",
      " [ 8 23  7]\n",
      " [ 9 32  8]\n",
      " [10 32  4]\n",
      " [11  1  5]\n",
      " [12 19  3]\n",
      " [13  1  5]\n",
      " [ 2 32  5]\n",
      " [14 32  8]\n",
      " [ 7 11  6]]\n"
     ]
    }
   ],
   "source": [
    "zero_n = sum(data[:, 1] == 0)\n",
    "data[:, 1] = where(data[:, 1] == 0, 1, data[:, 1])\n",
    "\n",
    "print(f\"Кол-во времени выполнений == 0: {zero_n}\")\n",
    "# print(f\"\\nИзменённая база данных: \\n{data}\")"
   ]
  },
  {
   "cell_type": "markdown",
   "id": "b16e937a-86b2-4863-af9a-83449c5e177f",
   "metadata": {},
   "source": [
    "5. Посчитайте, сколько уникальных рецептов находится в датасете."
   ]
  },
  {
   "cell_type": "code",
   "execution_count": 200,
   "id": "8e945629-61ec-4d7e-96a5-78a266c02d5b",
   "metadata": {},
   "outputs": [
    {
     "name": "stdout",
     "output_type": "stream",
     "text": [
      "Кол-во уникальных рецептов: 14\n"
     ]
    }
   ],
   "source": [
    "unique_ = unique(data, axis=0)\n",
    "n_unique = unique_.shape[0]\n",
    "\n",
    "print(f\"Кол-во уникальных рецептов: {n_unique}\")"
   ]
  },
  {
   "cell_type": "markdown",
   "id": "e2e10fa1-1a0f-4f03-aeb9-3a309b840a7d",
   "metadata": {},
   "source": [
    "6. Сколько и каких различных значений кол-ва ингредиентов присутвует в рецептах из датасета?"
   ]
  },
  {
   "cell_type": "code",
   "execution_count": 175,
   "id": "634542e2-54b2-4201-9456-5ba0424bbb91",
   "metadata": {},
   "outputs": [
    {
     "name": "stdout",
     "output_type": "stream",
     "text": [
      "Кол-во уникальных кол-в ингредиентов: 8\n",
      "Уникальные значения кол-в ингредиентов: [ 2  3  4  5  6  7  8 10]\n"
     ]
    }
   ],
   "source": [
    "unique_i = unique(data[:, 2])\n",
    "n_unique_i = unique_i.size\n",
    "\n",
    "print(f\"Кол-во уникальных кол-в ингредиентов: {n_unique_i}\")\n",
    "print(f\"Уникальные значения кол-в ингредиентов: {unique_i}\")"
   ]
  },
  {
   "cell_type": "markdown",
   "id": "522f4d8d-edf3-4c53-9f09-48e63190c65c",
   "metadata": {},
   "source": [
    "7. Создайте версию массива, содержащую информацию только о рецептах, состоящих не более чем из 5 ингредиентов."
   ]
  },
  {
   "cell_type": "code",
   "execution_count": 176,
   "id": "081c2da8-8050-4777-8184-b04df6570499",
   "metadata": {},
   "outputs": [
    {
     "name": "stdout",
     "output_type": "stream",
     "text": [
      "Новая версия базы данных: \n",
      "[[ 1 32  3]\n",
      " [ 2 32  5]\n",
      " [ 5 32  3]\n",
      " [ 6 32  2]\n",
      " [10 32  4]\n",
      " [11  1  5]\n",
      " [12 19  3]\n",
      " [13  1  5]\n",
      " [ 2 32  5]]\n"
     ]
    }
   ],
   "source": [
    "filtered_data = data[where(data[:, 2] <= 5)]\n",
    "\n",
    "# print(f\"Новая версия базы данных: \\n{filtered_data}\")"
   ]
  },
  {
   "cell_type": "markdown",
   "id": "f35c0c9c-e39d-49dd-a05b-661173f9ff19",
   "metadata": {},
   "source": [
    "8. Для каждого рецепта посчитайте, сколько в среднем ингредиентов приходится на одну минуту рецепта. Найдите максимальное значение этой величины для всего датасета."
   ]
  },
  {
   "cell_type": "code",
   "execution_count": 177,
   "id": "a5781eb5-e1c5-40c9-8818-90e82900dd3c",
   "metadata": {},
   "outputs": [
    {
     "name": "stdout",
     "output_type": "stream",
     "text": [
      "Среднее кол-во ингредиентов на минуту рецепта: \n",
      "[0.09375    0.15625    0.5        0.3125     0.09375    0.0625\n",
      " 0.54545455 0.30434783 0.25       0.125      5.         0.15789474\n",
      " 5.         0.15625    0.25       0.54545455]\n",
      "Max среднее кол-во ингредиентов на минуту рецепта: 5.0\n"
     ]
    }
   ],
   "source": [
    "mean_i_div_t = divide(data[:, 2], data[:, 1])\n",
    "max_mean_i_div_t = max(mean_i_div_t)\n",
    "\n",
    "print(f\"Среднее кол-во ингредиентов на минуту рецепта: \\n{mean_i_div_t}\")\n",
    "print(f\"Max среднее кол-во ингредиентов на минуту рецепта: {max_mean_i_div_t}\")  "
   ]
  },
  {
   "cell_type": "markdown",
   "id": "93e3933a-91bd-462f-84f8-d48b36bf6160",
   "metadata": {},
   "source": [
    "9. Вычислите среднее количество ингредиентов для топ-100 рецептов с наибольшей продолжительностью."
   ]
  },
  {
   "cell_type": "code",
   "execution_count": 178,
   "id": "dad7989b-adf3-49a1-afa4-ba009d4bd07d",
   "metadata": {},
   "outputs": [
    {
     "name": "stdout",
     "output_type": "stream",
     "text": [
      "Среднее кол-во ингредиентов для топ-100 рецептов с наибольшим временем выполнения: \n",
      "5.375\n"
     ]
    }
   ],
   "source": [
    "top_100 = argsort(data[:, 1])[-100:]\n",
    "\n",
    "mean_i_top_100 = mean(data[top_100, 2])\n",
    "print(f\"Среднее кол-во ингредиентов для топ-100 рецептов с наибольшим временем выполнения: \\n{mean_i_top_100}\")"
   ]
  },
  {
   "cell_type": "markdown",
   "id": "dc987352-4a3d-4c3d-a187-f17e8d57c355",
   "metadata": {},
   "source": [
    "10. Выберите случайным образом и выведите информацию о 10 различных рецептах."
   ]
  },
  {
   "cell_type": "code",
   "execution_count": 194,
   "id": "5160d69f-4bbb-4200-866c-a059042c29de",
   "metadata": {},
   "outputs": [
    {
     "name": "stdout",
     "output_type": "stream",
     "text": [
      "Информация о 10-ти случайных рецептах: \n",
      "[[ 7 11  6]\n",
      " [ 8 23  7]\n",
      " [10 32  4]\n",
      " [ 1 32  3]\n",
      " [11  1  5]\n",
      " [ 5 32  3]\n",
      " [ 4 32 10]\n",
      " [ 3 12  6]\n",
      " [14 32  8]\n",
      " [ 7 11  6]]\n"
     ]
    }
   ],
   "source": [
    "rng = np.random.default_rng()\n",
    "print(f\"Информация о 10-ти случайных рецептах: \\n{rng.choice(data, 10, replace=False)}\")"
   ]
  },
  {
   "cell_type": "markdown",
   "id": "26118afc-162f-4054-8bae-d5ace057a237",
   "metadata": {},
   "source": [
    "11. Выведите процент рецептов, кол-во ингредиентов в которых меньше среднего."
   ]
  },
  {
   "cell_type": "code",
   "execution_count": 180,
   "id": "25cf1697-9608-4081-ab90-4ad0c7a18a56",
   "metadata": {},
   "outputs": [
    {
     "name": "stdout",
     "output_type": "stream",
     "text": [
      "Процент рецептов, кол-во ингредиентов в которых ниже среднего: 35.4%\n"
     ]
    }
   ],
   "source": [
    "mean_i = mean(data[:, 2])\n",
    "\n",
    "print(\"Процент рецептов, кол-во ингредиентов в которых ниже среднего: {:.1%}\".format((data < mean_i).mean()))"
   ]
  },
  {
   "cell_type": "markdown",
   "id": "28649366-65cf-40f4-8c63-98717e865b65",
   "metadata": {},
   "source": [
    "12. Назовем \"простым\" такой рецепт, длительность выполнения которого не больше 20 минут и кол-во ингредиентов в котором не больше 5. Создайте версию датасета с дополнительным столбцом, значениями которого являются 1, если рецепт простой, и 0 в противном случае."
   ]
  },
  {
   "cell_type": "code",
   "execution_count": 181,
   "id": "6d11a7a6-bc26-490f-9fcf-d7df112b0a94",
   "metadata": {},
   "outputs": [
    {
     "name": "stdout",
     "output_type": "stream",
     "text": [
      "Обновлённая база данных с колонкой о простоте рецепта: \n",
      "[[ 1 32  3  0]\n",
      " [ 2 32  5  0]\n",
      " [ 3 12  6  0]\n",
      " [ 4 32 10  0]\n",
      " [ 5 32  3  0]\n",
      " [ 6 32  2  0]\n",
      " [ 7 11  6  0]\n",
      " [ 8 23  7  0]\n",
      " [ 9 32  8  0]\n",
      " [10 32  4  0]\n",
      " [11  1  5  1]\n",
      " [12 19  3  1]\n",
      " [13  1  5  1]\n",
      " [ 2 32  5  0]\n",
      " [14 32  8  0]\n",
      " [ 7 11  6  0]]\n"
     ]
    }
   ],
   "source": [
    "new_data = np.append(data, zeros((len(data), 1), dtype=int), axis=1)\n",
    "new_data[:, 3] = where((data[:, 1] <= 20) & (data[:, 2] <= 5), 1, 0)\n",
    "\n",
    "# print(f\"Обновлённая база данных с колонкой о простоте рецепта: \\n{new_data}\")"
   ]
  },
  {
   "cell_type": "markdown",
   "id": "18d07c7c-71f1-48b1-8ed4-2fcec87f8f3a",
   "metadata": {},
   "source": [
    "13. Выведите процент \"простых\" рецептов в датасете."
   ]
  },
  {
   "cell_type": "code",
   "execution_count": 182,
   "id": "a6e99f1b-2ec5-4c83-ba3f-805a12754fe2",
   "metadata": {},
   "outputs": [
    {
     "name": "stdout",
     "output_type": "stream",
     "text": [
      "Процент простых рецептов: 18.8%\n"
     ]
    }
   ],
   "source": [
    "print(\"Процент простых рецептов: {:.1%}\".format((new_data[:, 3] == 1).mean()))"
   ]
  },
  {
   "cell_type": "markdown",
   "id": "e6cd3e7e-6924-412d-a474-c394492ef895",
   "metadata": {},
   "source": [
    "14. Разделим рецепты на группы по следующему правилу. Назовем рецепты короткими, если их продолжительность составляет менее 10 минут; стандартными, если их продолжительность составляет более 10, но менее 20 минут; и длинными, если их продолжительность составляет не менее 20 минут. Создайте трехмерный массив, где нулевая ось отвечает за номер группы (короткий, стандартный или длинный рецепт), первая ось - за сам рецепт и вторая ось - за характеристики рецепта. Выберите максимальное количество рецептов из каждой группы таким образом, чтобы было возможно сформировать трехмерный массив. Выведите форму полученного массива."
   ]
  },
  {
   "cell_type": "code",
   "execution_count": 7,
   "id": "65acee11-fb2e-4c3d-829f-45485363ff78",
   "metadata": {},
   "outputs": [
    {
     "name": "stdout",
     "output_type": "stream",
     "text": [
      "Форма массива: \n",
      "(3, 2, 3)\n",
      "\n",
      "Трёхмерный массив: \n",
      "[[[11  1  5]\n",
      "  [13  1  5]]\n",
      "\n",
      " [[ 3 12  6]\n",
      "  [ 7 11  6]]\n",
      "\n",
      " [[ 1 32  3]\n",
      "  [ 2 32  5]]]\n"
     ]
    }
   ],
   "source": [
    "short_ = data[data[:, 1] < 10]\n",
    "standard_ = data[(data[:, 1] >= 10) & (data[:, 1] < 20)]\n",
    "long_ = data[data[:, 1] >= 20]\n",
    "\n",
    "size_n = min(short_.shape[0], standard_.shape[0], long_.shape[0])\n",
    "\n",
    "short_ = short_[:size_n]\n",
    "standard_ = standard_[:size_n]\n",
    "long_ = long_[:size_n]\n",
    "\n",
    "new_3d_data = np.append(short_, standard_)\n",
    "new_3d_data = np.append(new_3d_data, long_)\n",
    "\n",
    "new_3d_data.shape = 3, size_n, 3\n",
    "\n",
    "print(f\"Форма массива: \\n{new_3d_data.shape}\")\n",
    "# print(f\"Трёхмерный массив: \\n{new_3d_data}\")"
   ]
  }
 ],
 "metadata": {
  "kernelspec": {
   "display_name": "Python 3 (ipykernel)",
   "language": "python",
   "name": "python3"
  },
  "language_info": {
   "codemirror_mode": {
    "name": "ipython",
    "version": 3
   },
   "file_extension": ".py",
   "mimetype": "text/x-python",
   "name": "python",
   "nbconvert_exporter": "python",
   "pygments_lexer": "ipython3",
   "version": "3.10.6"
  }
 },
 "nbformat": 4,
 "nbformat_minor": 5
}
