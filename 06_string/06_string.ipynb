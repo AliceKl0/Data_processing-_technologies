{
 "cells": [
  {
   "cell_type": "markdown",
   "metadata": {},
   "source": [
    "# Работа со строковыми значениями"
   ]
  },
  {
   "cell_type": "code",
   "execution_count": 3,
   "metadata": {},
   "outputs": [],
   "source": [
    "import pandas as pd\n",
    "import numpy as np\n",
    "from bs4 import BeautifulSoup\n",
    "import re\n",
    "import nltk"
   ]
  },
  {
   "cell_type": "markdown",
   "metadata": {},
   "source": [
    "## Лабораторная работа 6"
   ]
  },
  {
   "cell_type": "markdown",
   "metadata": {},
   "source": [
    "### Форматирование строк"
   ]
  },
  {
   "cell_type": "markdown",
   "metadata": {},
   "source": [
    "1\\. Загрузите данные из файла `recipes_sample.csv` (__ЛР2__) в виде `pd.DataFrame` `recipes` При помощи форматирования строк выведите информацию об id рецепта и времени выполнения 5 случайных рецептов в виде таблицы следующего вида:\n",
    "\n",
    "    \n",
    "    |      id      |  minutes  |\n",
    "    |--------------------------|\n",
    "    |    61178     |    65     |\n",
    "    |    202352    |    80     |\n",
    "    |    364322    |    150    |\n",
    "    |    26177     |    20     |\n",
    "    |    224785    |    35     |\n",
    "    \n",
    "Обратите внимание, что ширина столбцов заранее неизвестна и должна рассчитываться динамически, в зависимости от тех данных, которые были выбраны. "
   ]
  },
  {
   "cell_type": "code",
   "execution_count": 84,
   "metadata": {},
   "outputs": [
    {
     "name": "stdout",
     "output_type": "stream",
     "text": [
      "|   id    | minutes |\n",
      "|---------|---------|\n",
      "| 347055  |   20    |\n",
      "|  24370  |   90    |\n",
      "| 117467  |   80    |\n",
      "|  10487  |   65    |\n",
      "| 219968  |   260   |\n",
      "\n"
     ]
    }
   ],
   "source": [
    "recipes = pd.read_csv(\"recipes_sample.csv\")\n",
    "\n",
    "np.random.seed(123)\n",
    "random_recipes = recipes.sample(5)\n",
    "\n",
    "output = f\"|{'id': ^9}|{'minutes': ^9}|\\n|{'-'*9}|{'-'*9}|\\n\"\n",
    "\n",
    "for index, row in random_recipes.iterrows():\n",
    "    output += f\"|{row['id']:^9}|{row['minutes']: ^9}|\\n\"\n",
    "\n",
    "print(output)"
   ]
  },
  {
   "cell_type": "markdown",
   "metadata": {},
   "source": [
    "2\\. Напишите функцию `show_info`, которая по данным о рецепте создает строку (в смысле объекта python) с описанием следующего вида:\n",
    "\n",
    "```\n",
    "\"Название Из Нескольких Слов\"\n",
    "\n",
    "1. Шаг 1\n",
    "2. Шаг 2\n",
    "----------\n",
    "Автор: contributor_id\n",
    "Среднее время приготовления: minutes минут\n",
    "```\n",
    "\n",
    "    \n",
    "Данные для создания строки получите из файлов `recipes_sample.csv` (__ЛР2__) и `steps_sample.xml` (__ЛР3__). \n",
    "Вызовите данную функцию для рецепта с id `170895` и выведите (через `print`) полученную строку на экран."
   ]
  },
  {
   "cell_type": "code",
   "execution_count": 55,
   "metadata": {},
   "outputs": [],
   "source": [
    "with open(\"steps_sample.xml\", 'r') as fp:\n",
    "    xml_ = BeautifulSoup(fp, 'xml')"
   ]
  },
  {
   "cell_type": "code",
   "execution_count": 192,
   "metadata": {},
   "outputs": [],
   "source": [
    "def show_info(xml_, df_, id_):\n",
    "    for recipe in xml_.find_all('recipe'):\n",
    "        if int(recipe.id.text) == int(id_):\n",
    "            steps = [step.text for step in recipe.find_all('step')]\n",
    "            break\n",
    "    \n",
    "    recipe_info = recipes[recipes['id'] == int(id_)].iloc[0]\n",
    "    recipe_name = recipe_info['name']\n",
    "    contributor_id = recipe_info['contributor_id']\n",
    "    minutes = recipe_info['minutes']\n",
    "    \n",
    "    output = f'{recipe_name}\\n\\n'\n",
    "    \n",
    "    for ind_, step_ in enumerate(steps):\n",
    "        output += f'{ind_ + 1}. {step_}\\n'\n",
    "\n",
    "    output += f'----------\\nАвтор: {contributor_id}\\nСреднее время приготовления: {minutes} минут'\n",
    "    return output"
   ]
  },
  {
   "cell_type": "code",
   "execution_count": 193,
   "metadata": {},
   "outputs": [
    {
     "name": "stdout",
     "output_type": "stream",
     "text": [
      "leeks and parsnips  sauteed or creamed\n",
      "\n",
      "1. clean the leeks and discard the dark green portions\n",
      "2. cut the leeks lengthwise then into one-inch pieces\n",
      "3. melt the butter in a medium skillet , med\n",
      "4. heat\n",
      "5. add the garlic and fry 'til fragrant\n",
      "6. add leeks and fry until the leeks are tender , about 6-minutes\n",
      "7. meanwhile , peel and chunk the parsnips into one-inch pieces\n",
      "8. place in a steaming basket and steam 'til they are as tender as you prefer\n",
      "9. i like them fork-tender\n",
      "10. drain parsnips and add to the skillet with the leeks\n",
      "11. add salt and pepper\n",
      "12. gently sautee together for 5-minutes\n",
      "13. at this point you can serve it , or continue on and cream it:\n",
      "14. in a jar with a screw top , add the half-n-half and arrowroot\n",
      "15. shake 'til blended\n",
      "16. turn heat to low under the leeks and parsnips\n",
      "17. pour in the arrowroot mixture , stirring gently as you pour\n",
      "18. if too thick , gradually add the water\n",
      "19. let simmer for a couple of minutes\n",
      "20. taste to adjust seasoning , probably an additional 1 / 2 teaspoon salt\n",
      "21. serve warm\n",
      "----------\n",
      "Автор: 8377\n",
      "Среднее время приготовления: 27 минут\n"
     ]
    }
   ],
   "source": [
    "print(show_info(xml_, recipes, 170895))"
   ]
  },
  {
   "cell_type": "markdown",
   "metadata": {},
   "source": [
    "## Работа с регулярными выражениями"
   ]
  },
  {
   "cell_type": "markdown",
   "metadata": {},
   "source": [
    "3\\. Напишите регулярное выражение, которое ищет следующий паттерн в строке: число (1 цифра или более), затем пробел, затем слова: hour или hours или minute или minutes. Произведите поиск по данному регулярному выражению в каждом шаге рецепта с id 25082. Выведите на экран все непустые результаты, найденные по данному шаблону."
   ]
  },
  {
   "cell_type": "code",
   "execution_count": 201,
   "metadata": {},
   "outputs": [],
   "source": [
    "pattern = r'\\d+\\s(?:hour|hours|minute|minutes)'"
   ]
  },
  {
   "cell_type": "code",
   "execution_count": 210,
   "metadata": {},
   "outputs": [
    {
     "name": "stdout",
     "output_type": "stream",
     "text": [
      "Строка: turn out onto a lightly floured board and knead for about 20 minutes , adding flour as nescessary to keep the dough from sticking to the board\n",
      "Результат: 20 minute\n",
      "----------\n",
      "Строка: when it has been sufficiently kneaded , cover it with a damp cloth for about 10 minutes and wash and grease the bowl lightly\n",
      "Результат: 10 minute\n",
      "----------\n",
      "Строка: let the dough rise until it springs back when you stick your finger in it , and it is about twice the size as it was before (this takes about 2 hours\n",
      "Результат: 2 hour\n",
      "----------\n",
      "Строка: when the dough has risen twice , deflate it again and cover it with the damp cloth again for about 10 minutes , then divide it into and shape it into loaves , buns , etc\n",
      "Результат: 10 minute\n",
      "----------\n",
      "Строка: bake at 400 for 20 minutes , and then turn the oven down to 350 and bake for 20-30 minutes longer , until the loaf is a lovely brown and sounds hollow when you thump it on the bottom\n",
      "Результат: 20 minute\n",
      "Результат: 30 minute\n",
      "----------\n",
      "\n"
     ]
    }
   ],
   "source": [
    "id_ = 25082\n",
    "output = ''\n",
    "\n",
    "for recipe in xml_.find_all('recipe'):\n",
    "        if int(recipe.id.text) == int(id_):\n",
    "            for step in recipe.find_all('step'):\n",
    "                matches = re.findall(pattern, step.text)\n",
    "                \n",
    "                if matches:\n",
    "                    output += f'Строка: {step.text}\\n'\n",
    "                    \n",
    "                    for match in matches:\n",
    "                        output += (f'Результат: {match}\\n')\n",
    "                    \n",
    "                    output += f'{\"-\" * 10}\\n'\n",
    "            \n",
    "            break\n",
    "\n",
    "print(output)"
   ]
  },
  {
   "cell_type": "markdown",
   "metadata": {},
   "source": [
    "4\\. Напишите регулярное выражение, которое ищет шаблон вида \"this..., but\" _в начале строки_ . Между словом \"this\" и частью \", but\" может находиться произвольное число букв, цифр, знаков подчеркивания и пробелов. Никаких других символов вместо многоточия быть не может. Пробел между запятой и словом \"but\" может присутствовать или отсутствовать.\n",
    "\n",
    "Используя строковые методы `pd.Series`, выясните, для каких рецептов данный шаблон содержится в тексте описания. Выведите на экран количество таких рецептов и 3 примера подходящих описаний (текст описания должен быть виден на экране полностью)."
   ]
  },
  {
   "cell_type": "code",
   "execution_count": 35,
   "metadata": {},
   "outputs": [],
   "source": [
    "reg_expr = r'^this\\b[\\w\\s]*,\\s?but'"
   ]
  },
  {
   "cell_type": "code",
   "execution_count": 51,
   "metadata": {},
   "outputs": [
    {
     "name": "stdout",
     "output_type": "stream",
     "text": [
      "Кол-во подходящих описаний: 134\n",
      "\n",
      "Примеры описаний:\n",
      "\n",
      "this is a great meal eaten the same day ,but even better the next day , if you can wait! add your favourite spices, but try it first as it is and i think that you will enjoy the 'vegetable' taste. good for freezing.\n",
      "\n",
      "this was adapted from a recipe i found on the net, but i added julienne onion to the peppers.  this is a meal in itself, or you could have a small slice with a meat dish.  for those that like to have brunch, it's a bit different to your traditional quiche recipes.  if you love cheese, you could add 1/2 cup of your favorite to the egg mixture, then pour over peppers.\n",
      "\n",
      "this is kind of similar to some of the other versions out there, but it is the best and easiest i have found\n"
     ]
    }
   ],
   "source": [
    "description_ = recipes[\"description\"]\n",
    "description_ = description_.fillna(\"\")\n",
    "\n",
    "matches = description_.str.contains(reg_expr)\n",
    "\n",
    "print(f\"Кол-во подходящих описаний: {matches.sum()}\")\n",
    "print(\"\\nПримеры описаний:\")\n",
    "for example in description_[matches].head(3):\n",
    "    print(f\"\\n{example}\")"
   ]
  },
  {
   "cell_type": "markdown",
   "metadata": {},
   "source": [
    "5\\. В текстах шагов рецептов обыкновенные дроби имеют вид \"a / b\". Используя регулярные выражения, уберите в тексте шагов рецепта с id 72367 пробелы до и после символа дроби. Выведите на экран шаги этого рецепта после их изменения."
   ]
  },
  {
   "cell_type": "code",
   "execution_count": 153,
   "metadata": {},
   "outputs": [
    {
     "name": "stdout",
     "output_type": "stream",
     "text": [
      "Шаги рецепта после удаления пробелов до и после символов дробей:\n",
      "mix butter , flour , 1/3 c\n",
      "--------------------------------------------------\n",
      "sugar and 1-1/4 t\n",
      "--------------------------------------------------\n",
      "vanilla\n",
      "--------------------------------------------------\n",
      "press into greased 9\" springform pan\n",
      "--------------------------------------------------\n",
      "mix cream cheese , 1/4 c\n",
      "--------------------------------------------------\n",
      "sugar , eggs and 1/2 t\n",
      "--------------------------------------------------\n",
      "vanilla beating until fluffy\n",
      "--------------------------------------------------\n",
      "pour over dough\n",
      "--------------------------------------------------\n",
      "combine apples , 1/3 c\n",
      "--------------------------------------------------\n",
      "sugar and cinnamon\n",
      "--------------------------------------------------\n",
      "arrange on top of cream cheese mixture and sprinkle with almonds\n",
      "--------------------------------------------------\n",
      "bake at 350 for 45-55 minutes , or until tester comes out clean\n",
      "--------------------------------------------------\n"
     ]
    }
   ],
   "source": [
    "id_ = 72367\n",
    "\n",
    "\n",
    "for recipe in xml_.find_all('recipe'):\n",
    "    if int(recipe.id.text) == int(id_):\n",
    "        steps = [re.sub(r'\\s*/\\s*', '/', step.text) for step in recipe.find_all('step')]\n",
    "        break\n",
    "\n",
    "\n",
    "print(\"Шаги рецепта после удаления пробелов до и после символов дробей:\")\n",
    "for step in steps:\n",
    "    print(step)\n",
    "    print(\"-\" * 50)"
   ]
  },
  {
   "cell_type": "markdown",
   "metadata": {},
   "source": [
    "### Сегментация текста"
   ]
  },
  {
   "cell_type": "markdown",
   "metadata": {},
   "source": [
    "6\\. Разбейте тексты шагов рецептов на слова при помощи пакета `nltk`. Посчитайте и выведите на экран кол-во уникальных слов среди всех рецептов. Словом называется любая последовательность алфавитных символов (для проверки можно воспользоваться `str.isalpha`). При подсчете количества уникальных слов не учитывайте регистр."
   ]
  },
  {
   "cell_type": "code",
   "execution_count": 60,
   "metadata": {},
   "outputs": [
    {
     "name": "stderr",
     "output_type": "stream",
     "text": [
      "[nltk_data] Downloading package punkt to C:\\Users\\Alice\n",
      "[nltk_data]     Klimovich\\AppData\\Roaming\\nltk_data...\n",
      "[nltk_data]   Unzipping tokenizers\\punkt.zip.\n"
     ]
    }
   ],
   "source": [
    "import nltk\n",
    "nltk.download('punkt')\n",
    "from nltk.tokenize import word_tokenize"
   ]
  },
  {
   "cell_type": "code",
   "execution_count": 71,
   "metadata": {},
   "outputs": [
    {
     "name": "stdout",
     "output_type": "stream",
     "text": [
      "Кол-во уникальных слов среди всех рецептов: 14926\n"
     ]
    }
   ],
   "source": [
    "# Извлекаем тексты шагов рецептов из XML\n",
    "steps_texts = [step.text for step in xml_.find_all(\"step\")]\n",
    "\n",
    "# Объединяем все тексты шагов рецептов в одну строку\n",
    "all_steps_text = \" \".join(steps_texts)\n",
    "\n",
    "# Токенизируем текст на слова, игнорируя знаки пунктуации\n",
    "words = [word.lower() for word in word_tokenize(all_steps_text) if word.isalpha()]\n",
    "\n",
    "# Считаем количество уникальных слов\n",
    "unique_words = set(words)\n",
    "num_unique_words = len(unique_words)\n",
    "\n",
    "print(f\"Кол-во уникальных слов среди всех рецептов: {num_unique_words}\")"
   ]
  },
  {
   "cell_type": "markdown",
   "metadata": {},
   "source": [
    "7\\. Разбейте описания рецептов из `recipes` на предложения при помощи пакета `nltk`. Найдите 5 самых длинных описаний (по количеству _предложений_) рецептов в датасете и выведите строки фрейма, соответствующие этим рецептами, в порядке убывания длины."
   ]
  },
  {
   "cell_type": "code",
   "execution_count": 72,
   "metadata": {},
   "outputs": [],
   "source": [
    "from nltk.tokenize import sent_tokenize"
   ]
  },
  {
   "cell_type": "code",
   "execution_count": 85,
   "metadata": {},
   "outputs": [
    {
     "data": {
      "text/html": [
       "<div>\n",
       "<style scoped>\n",
       "    .dataframe tbody tr th:only-of-type {\n",
       "        vertical-align: middle;\n",
       "    }\n",
       "\n",
       "    .dataframe tbody tr th {\n",
       "        vertical-align: top;\n",
       "    }\n",
       "\n",
       "    .dataframe thead th {\n",
       "        text-align: right;\n",
       "    }\n",
       "</style>\n",
       "<table border=\"1\" class=\"dataframe\">\n",
       "  <thead>\n",
       "    <tr style=\"text-align: right;\">\n",
       "      <th></th>\n",
       "      <th>name</th>\n",
       "      <th>id</th>\n",
       "      <th>minutes</th>\n",
       "      <th>contributor_id</th>\n",
       "      <th>submitted</th>\n",
       "      <th>n_steps</th>\n",
       "      <th>description</th>\n",
       "      <th>n_ingredients</th>\n",
       "      <th>num_sentences</th>\n",
       "    </tr>\n",
       "  </thead>\n",
       "  <tbody>\n",
       "    <tr>\n",
       "      <th>18408</th>\n",
       "      <td>my favorite buttercream icing for decorating</td>\n",
       "      <td>334113</td>\n",
       "      <td>30</td>\n",
       "      <td>681465</td>\n",
       "      <td>2008-10-30</td>\n",
       "      <td>12.0</td>\n",
       "      <td>this wonderful icing is used for icing cakes a...</td>\n",
       "      <td>NaN</td>\n",
       "      <td>76</td>\n",
       "    </tr>\n",
       "    <tr>\n",
       "      <th>481</th>\n",
       "      <td>alligator claws  avocado fritters  with chipot...</td>\n",
       "      <td>287008</td>\n",
       "      <td>45</td>\n",
       "      <td>765354</td>\n",
       "      <td>2008-02-19</td>\n",
       "      <td>NaN</td>\n",
       "      <td>a translucent golden-brown crust allows the gr...</td>\n",
       "      <td>9.0</td>\n",
       "      <td>27</td>\n",
       "    </tr>\n",
       "    <tr>\n",
       "      <th>22566</th>\n",
       "      <td>rich barley mushroom soup</td>\n",
       "      <td>328708</td>\n",
       "      <td>60</td>\n",
       "      <td>221776</td>\n",
       "      <td>2008-10-03</td>\n",
       "      <td>NaN</td>\n",
       "      <td>this is one of the best soups i've ever made a...</td>\n",
       "      <td>10.0</td>\n",
       "      <td>24</td>\n",
       "    </tr>\n",
       "    <tr>\n",
       "      <th>6779</th>\n",
       "      <td>chocolate tea</td>\n",
       "      <td>205348</td>\n",
       "      <td>6</td>\n",
       "      <td>428824</td>\n",
       "      <td>2007-01-14</td>\n",
       "      <td>NaN</td>\n",
       "      <td>i wrote this because there are an astounding l...</td>\n",
       "      <td>NaN</td>\n",
       "      <td>23</td>\n",
       "    </tr>\n",
       "    <tr>\n",
       "      <th>16296</th>\n",
       "      <td>little bunny foo foo cake  carrot cake  with c...</td>\n",
       "      <td>316000</td>\n",
       "      <td>68</td>\n",
       "      <td>689540</td>\n",
       "      <td>2008-07-27</td>\n",
       "      <td>14.0</td>\n",
       "      <td>the first time i made this cake i grated a mil...</td>\n",
       "      <td>NaN</td>\n",
       "      <td>23</td>\n",
       "    </tr>\n",
       "  </tbody>\n",
       "</table>\n",
       "</div>"
      ],
      "text/plain": [
       "                                                    name      id  minutes  \\\n",
       "18408       my favorite buttercream icing for decorating  334113       30   \n",
       "481    alligator claws  avocado fritters  with chipot...  287008       45   \n",
       "22566                          rich barley mushroom soup  328708       60   \n",
       "6779                                       chocolate tea  205348        6   \n",
       "16296  little bunny foo foo cake  carrot cake  with c...  316000       68   \n",
       "\n",
       "       contributor_id   submitted  n_steps  \\\n",
       "18408          681465  2008-10-30     12.0   \n",
       "481            765354  2008-02-19      NaN   \n",
       "22566          221776  2008-10-03      NaN   \n",
       "6779           428824  2007-01-14      NaN   \n",
       "16296          689540  2008-07-27     14.0   \n",
       "\n",
       "                                             description  n_ingredients  \\\n",
       "18408  this wonderful icing is used for icing cakes a...            NaN   \n",
       "481    a translucent golden-brown crust allows the gr...            9.0   \n",
       "22566  this is one of the best soups i've ever made a...           10.0   \n",
       "6779   i wrote this because there are an astounding l...            NaN   \n",
       "16296  the first time i made this cake i grated a mil...            NaN   \n",
       "\n",
       "       num_sentences  \n",
       "18408             76  \n",
       "481               27  \n",
       "22566             24  \n",
       "6779              23  \n",
       "16296             23  "
      ]
     },
     "execution_count": 85,
     "metadata": {},
     "output_type": "execute_result"
    }
   ],
   "source": [
    "recipes[\"description\"] = recipes[\"description\"].astype(str)\n",
    "\n",
    "# Создаем новый столбец с кол-вом предложений в описании каждого рецепта\n",
    "recipes[\"num_sentences\"] = recipes[\"description\"].apply(sent_tokenize).apply(len)\n",
    "\n",
    "# Находим 5 самых длинных описаний по кол-ву предложений\n",
    "top_5_longest_indexes = recipes[\"num_sentences\"].nlargest(5).index\n",
    "\n",
    "recipes.loc[top_5_longest_indexes]"
   ]
  },
  {
   "cell_type": "markdown",
   "metadata": {},
   "source": [
    "8\\. Напишите функцию, которая для заданного предложения выводит информацию о частях речи слов, входящих в предложение, в следующем виде:\n",
    "```\n",
    "PRP   VBD   DT      NNS     CC   VBD      NNS        RB   \n",
    " I  omitted the raspberries and added strawberries instead\n",
    "``` \n",
    "Для определения части речи слова можно воспользоваться `nltk.pos_tag`.\n",
    "\n",
    "Проверьте работоспособность функции на названии рецепта с id 241106.\n",
    "\n",
    "Обратите внимание, что часть речи должна находиться ровно посередине над соотвествующим словом, а между самими словами должен быть ровно один пробел.\n"
   ]
  },
  {
   "cell_type": "code",
   "execution_count": 92,
   "metadata": {},
   "outputs": [
    {
     "name": "stderr",
     "output_type": "stream",
     "text": [
      "[nltk_data] Downloading package averaged_perceptron_tagger to\n",
      "[nltk_data]     C:\\Users\\Alice Klimovich\\AppData\\Roaming\\nltk_data...\n",
      "[nltk_data]   Unzipping taggers\\averaged_perceptron_tagger.zip.\n"
     ]
    }
   ],
   "source": [
    "nltk.download('averaged_perceptron_tagger')\n",
    "from nltk import pos_tag"
   ]
  },
  {
   "cell_type": "code",
   "execution_count": 172,
   "metadata": {},
   "outputs": [],
   "source": [
    "def print_pos_tag(sentence):\n",
    "    # Токенизация предложения\n",
    "    tokens = word_tokenize(sentence)\n",
    "    \n",
    "    # Получение частей речи для каждого слова\n",
    "    tagged = pos_tag(tokens)\n",
    "    \n",
    "    # Подготовка строк для вывода\n",
    "    tags_line = \"\"\n",
    "    words_line = \"\"\n",
    "    \n",
    "    # Формирование строк для вывода\n",
    "    for word, tag in tagged:\n",
    "        if word.isalpha():\n",
    "            # Форматирование части речи и слова\n",
    "            formatted_tag = tag.center(len(word)) + \" \"\n",
    "            formatted_word = word.center(len(tag)) + \" \"\n",
    "            \n",
    "            # Добавление в строку частей речи\n",
    "            tags_line += formatted_tag\n",
    "            \n",
    "            # Добавление в строку слов с одним пробелом между ними\n",
    "            words_line += formatted_word\n",
    "    \n",
    "    # Вывод результатов\n",
    "    print(tags_line)\n",
    "    print(words_line)"
   ]
  },
  {
   "cell_type": "code",
   "execution_count": 173,
   "metadata": {},
   "outputs": [
    {
     "name": "stdout",
     "output_type": "stream",
     "text": [
      "  DT  VBP DT   RB    JJ    NN   NN  TO  VB  IN  DT     NN     WRB    JJ   NNS  VBP    JJ     NN     CC   NNS     VBG   IN  DT   VBG    VBN  VBZ DT     NN      CC   EX  VBP     RB     JJ  JJR  NNS  TO   VB   DT   NN    VB   IN  IN   DT    JJ     NNS    CC  RB   VB  IN   WP   VBZ    JJ  TO PRP \n",
      "these are a  really good quick meal to make in the summertime when local farms have fresh eggplant and tomatoes coming in the topping given  is a  suggestion but there are certainly many more ways to enjoy this dish start out with the eggplant steaks and then top with what sounds good to you \n"
     ]
    }
   ],
   "source": [
    "sentence_ = recipes[recipes['id'] == 241106]['description'].iloc[0]\n",
    "print_pos_tag(sentence_)"
   ]
  },
  {
   "attachments": {
    "933e479b-3f14-4cd0-8e37-68b94fe56841.png": {
     "image/png": "[encoded data removed]"
    }
   },
   "cell_type": "markdown",
   "metadata": {},
   "source": [
    "![image.png](attachment:933e479b-3f14-4cd0-8e37-68b94fe56841.png)"
   ]
  }
 ],
 "metadata": {
  "kernelspec": {
   "display_name": "Python 3 (ipykernel)",
   "language": "python",
   "name": "python3"
  },
  "language_info": {
   "codemirror_mode": {
    "name": "ipython",
    "version": 3
   },
   "file_extension": ".py",
   "mimetype": "text/x-python",
   "name": "python",
   "nbconvert_exporter": "python",
   "pygments_lexer": "ipython3",
   "version": "3.10.6"
  }
 },
 "nbformat": 4,
 "nbformat_minor": 4
}
